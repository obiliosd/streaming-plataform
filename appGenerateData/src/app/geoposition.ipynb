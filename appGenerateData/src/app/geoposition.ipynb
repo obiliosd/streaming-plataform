{
 "cells": [
  {
   "cell_type": "code",
   "execution_count": 2,
   "source": [
    "import json\r\n",
    "import numpy as np\r\n",
    "import pandas as pd\r\n",
    "import random\r\n",
    "from datetime import datetime"
   ],
   "outputs": [],
   "metadata": {}
  },
  {
   "cell_type": "code",
   "execution_count": 3,
   "source": [
    "def readData(fileName):\r\n",
    "    input_file = open(fileName)\r\n",
    "    json_array = json.load(input_file)\r\n",
    "    coordinates = json_array['features'][0]['geometry']['coordinates'][0]\r\n",
    "    numpy_data = np.array(coordinates[0:4])\r\n",
    "    return pd.DataFrame(data=numpy_data, columns=[\"x\", \"y\"])"
   ],
   "outputs": [],
   "metadata": {}
  },
  {
   "cell_type": "code",
   "execution_count": 4,
   "source": [
    "def generateRandomCoordinate(df):\r\n",
    "    x = random.uniform(df.x.min(),df.x.max())\r\n",
    "    y = random.uniform(df.y.min(),df.y.max())\r\n",
    "    return [x,y]"
   ],
   "outputs": [],
   "metadata": {}
  },
  {
   "cell_type": "code",
   "execution_count": 5,
   "source": [
    "def generateData(id, df):\r\n",
    "    data = {}\r\n",
    "    data['key'] = id+1\r\n",
    "    data['country'] = 'Spain'\r\n",
    "    data['region'] = 'Barcelona'\r\n",
    "    data['coordinates'] = generateRandomCoordinate(df)\r\n",
    "    data['timestamp'] = str(datetime.utcnow())\r\n",
    "    return data"
   ],
   "outputs": [],
   "metadata": {}
  },
  {
   "cell_type": "code",
   "execution_count": 6,
   "source": [
    "def sendRandomPostion(df, numberRaider, url, headers):\r\n",
    "    for i in range(numberRaider):\r\n",
    "        data = generateData(i,df)\r\n",
    "        print(data)\r\n",
    "        try:\r\n",
    "            requests.post(url, data=data, headers=headers)\r\n",
    "        except requests.exceptions.RequestException as error:\r\n",
    "            print(\"Error: \", error)\r\n",
    "        "
   ],
   "outputs": [],
   "metadata": {}
  },
  {
   "cell_type": "code",
   "execution_count": 7,
   "source": [
    "import requests\r\n",
    "url = 'http://localhost:12012/contentListener'\r\n",
    "headers = {\"Content-Type\": \"application/json\"}\r\n",
    "df = readData('../data/bcn.json')\r\n",
    "numberRaider = 50\r\n",
    "interval = 5"
   ],
   "outputs": [],
   "metadata": {}
  },
  {
   "cell_type": "code",
   "execution_count": 8,
   "source": [
    "import time\r\n",
    "while True:\r\n",
    "    sendRandomPostion(df, numberRaider, url, headers)\r\n",
    "    time.sleep(interval)"
   ],
   "outputs": [
    {
     "output_type": "stream",
     "name": "stdout",
     "text": [
      "{'key': 1, 'country': 'Spain', 'region': 'Barcelona', 'coordinates': [2.1776694026098955, 41.40720864888078], 'timestamp': '2021-10-03 11:48:04.910000'}\n",
      "{'key': 2, 'country': 'Spain', 'region': 'Barcelona', 'coordinates': [2.133527364881631, 41.40068173625498], 'timestamp': '2021-10-03 11:48:05.022475'}\n",
      "{'key': 3, 'country': 'Spain', 'region': 'Barcelona', 'coordinates': [2.193335893678676, 41.393230728957604], 'timestamp': '2021-10-03 11:48:05.042808'}\n",
      "{'key': 4, 'country': 'Spain', 'region': 'Barcelona', 'coordinates': [2.1800012487528706, 41.39389400907674], 'timestamp': '2021-10-03 11:48:05.071392'}\n",
      "{'key': 5, 'country': 'Spain', 'region': 'Barcelona', 'coordinates': [2.1831975493610254, 41.39234665637667], 'timestamp': '2021-10-03 11:48:05.084398'}\n",
      "{'key': 6, 'country': 'Spain', 'region': 'Barcelona', 'coordinates': [2.1603093264473965, 41.39878479609479], 'timestamp': '2021-10-03 11:48:05.095401'}\n",
      "{'key': 7, 'country': 'Spain', 'region': 'Barcelona', 'coordinates': [2.1578575415396424, 41.399477001817175], 'timestamp': '2021-10-03 11:48:05.107394'}\n",
      "{'key': 8, 'country': 'Spain', 'region': 'Barcelona', 'coordinates': [2.135868099837765, 41.39904341689937], 'timestamp': '2021-10-03 11:48:05.117395'}\n",
      "{'key': 9, 'country': 'Spain', 'region': 'Barcelona', 'coordinates': [2.144765039846317, 41.39586797622967], 'timestamp': '2021-10-03 11:48:05.127394'}\n",
      "{'key': 10, 'country': 'Spain', 'region': 'Barcelona', 'coordinates': [2.1711125548374595, 41.3956846277381], 'timestamp': '2021-10-03 11:48:05.138397'}\n",
      "{'key': 11, 'country': 'Spain', 'region': 'Barcelona', 'coordinates': [2.1417935063260622, 41.39019725626409], 'timestamp': '2021-10-03 11:48:05.175937'}\n",
      "{'key': 12, 'country': 'Spain', 'region': 'Barcelona', 'coordinates': [2.1972781795809166, 41.39165032886953], 'timestamp': '2021-10-03 11:48:05.190623'}\n",
      "{'key': 13, 'country': 'Spain', 'region': 'Barcelona', 'coordinates': [2.130457998279636, 41.395836424571385], 'timestamp': '2021-10-03 11:48:05.202189'}\n",
      "{'key': 14, 'country': 'Spain', 'region': 'Barcelona', 'coordinates': [2.1604552985865415, 41.39583608355361], 'timestamp': '2021-10-03 11:48:05.214815'}\n",
      "{'key': 15, 'country': 'Spain', 'region': 'Barcelona', 'coordinates': [2.1913481449780945, 41.40288051476605], 'timestamp': '2021-10-03 11:48:05.227814'}\n",
      "{'key': 16, 'country': 'Spain', 'region': 'Barcelona', 'coordinates': [2.151308439458045, 41.4015736392662], 'timestamp': '2021-10-03 11:48:05.238808'}\n",
      "{'key': 17, 'country': 'Spain', 'region': 'Barcelona', 'coordinates': [2.1558892848179134, 41.40648576466761], 'timestamp': '2021-10-03 11:48:05.247809'}\n",
      "{'key': 18, 'country': 'Spain', 'region': 'Barcelona', 'coordinates': [2.1383355790114735, 41.40416440555199], 'timestamp': '2021-10-03 11:48:05.256809'}\n",
      "{'key': 19, 'country': 'Spain', 'region': 'Barcelona', 'coordinates': [2.145149018232004, 41.40079375592206], 'timestamp': '2021-10-03 11:48:05.265808'}\n",
      "{'key': 20, 'country': 'Spain', 'region': 'Barcelona', 'coordinates': [2.130298113755363, 41.39435260251243], 'timestamp': '2021-10-03 11:48:05.277809'}\n",
      "{'key': 21, 'country': 'Spain', 'region': 'Barcelona', 'coordinates': [2.1667350536238237, 41.39677120354381], 'timestamp': '2021-10-03 11:48:05.284808'}\n",
      "{'key': 22, 'country': 'Spain', 'region': 'Barcelona', 'coordinates': [2.1338814309149376, 41.39725587109679], 'timestamp': '2021-10-03 11:48:05.293807'}\n",
      "{'key': 23, 'country': 'Spain', 'region': 'Barcelona', 'coordinates': [2.1878927797522802, 41.402980218813596], 'timestamp': '2021-10-03 11:48:05.302809'}\n",
      "{'key': 24, 'country': 'Spain', 'region': 'Barcelona', 'coordinates': [2.166487860901624, 41.40405904114198], 'timestamp': '2021-10-03 11:48:05.311809'}\n",
      "{'key': 25, 'country': 'Spain', 'region': 'Barcelona', 'coordinates': [2.142786903861636, 41.40205359866713], 'timestamp': '2021-10-03 11:48:05.320810'}\n",
      "{'key': 26, 'country': 'Spain', 'region': 'Barcelona', 'coordinates': [2.165546554102934, 41.40200514519298], 'timestamp': '2021-10-03 11:48:05.328808'}\n",
      "{'key': 27, 'country': 'Spain', 'region': 'Barcelona', 'coordinates': [2.153008958666588, 41.397472674931564], 'timestamp': '2021-10-03 11:48:05.336809'}\n",
      "{'key': 28, 'country': 'Spain', 'region': 'Barcelona', 'coordinates': [2.1601626693954343, 41.40421366800992], 'timestamp': '2021-10-03 11:48:05.344807'}\n",
      "{'key': 29, 'country': 'Spain', 'region': 'Barcelona', 'coordinates': [2.1624971816984146, 41.40313404047682], 'timestamp': '2021-10-03 11:48:05.352808'}\n",
      "{'key': 30, 'country': 'Spain', 'region': 'Barcelona', 'coordinates': [2.1930127111822615, 41.39711358248853], 'timestamp': '2021-10-03 11:48:05.364814'}\n",
      "{'key': 31, 'country': 'Spain', 'region': 'Barcelona', 'coordinates': [2.178026196703375, 41.398305731673254], 'timestamp': '2021-10-03 11:48:05.377808'}\n",
      "{'key': 32, 'country': 'Spain', 'region': 'Barcelona', 'coordinates': [2.17608696184058, 41.39092063397394], 'timestamp': '2021-10-03 11:48:05.390815'}\n",
      "{'key': 33, 'country': 'Spain', 'region': 'Barcelona', 'coordinates': [2.166858262250672, 41.40713480037056], 'timestamp': '2021-10-03 11:48:05.404815'}\n",
      "{'key': 34, 'country': 'Spain', 'region': 'Barcelona', 'coordinates': [2.185926060190556, 41.39486434160618], 'timestamp': '2021-10-03 11:48:05.413809'}\n",
      "{'key': 35, 'country': 'Spain', 'region': 'Barcelona', 'coordinates': [2.1700606909352165, 41.40520153219236], 'timestamp': '2021-10-03 11:48:05.421808'}\n",
      "{'key': 36, 'country': 'Spain', 'region': 'Barcelona', 'coordinates': [2.170354080793056, 41.39166849957435], 'timestamp': '2021-10-03 11:48:05.485589'}\n",
      "{'key': 37, 'country': 'Spain', 'region': 'Barcelona', 'coordinates': [2.136958877640004, 41.40289638054852], 'timestamp': '2021-10-03 11:48:05.506583'}\n",
      "{'key': 38, 'country': 'Spain', 'region': 'Barcelona', 'coordinates': [2.173137017552835, 41.404585791037846], 'timestamp': '2021-10-03 11:48:05.521583'}\n",
      "{'key': 39, 'country': 'Spain', 'region': 'Barcelona', 'coordinates': [2.154862983448551, 41.407565255607246], 'timestamp': '2021-10-03 11:48:05.536580'}\n",
      "{'key': 40, 'country': 'Spain', 'region': 'Barcelona', 'coordinates': [2.1563074994058296, 41.40564837113953], 'timestamp': '2021-10-03 11:48:05.557122'}\n",
      "{'key': 41, 'country': 'Spain', 'region': 'Barcelona', 'coordinates': [2.1890995637356983, 41.406188675181305], 'timestamp': '2021-10-03 11:48:05.570122'}\n",
      "{'key': 42, 'country': 'Spain', 'region': 'Barcelona', 'coordinates': [2.1550278173387345, 41.401828241228465], 'timestamp': '2021-10-03 11:48:05.588129'}\n",
      "{'key': 43, 'country': 'Spain', 'region': 'Barcelona', 'coordinates': [2.1504894269819896, 41.40790984950796], 'timestamp': '2021-10-03 11:48:05.600122'}\n",
      "{'key': 44, 'country': 'Spain', 'region': 'Barcelona', 'coordinates': [2.1937063299472266, 41.393323353459444], 'timestamp': '2021-10-03 11:48:05.612122'}\n",
      "{'key': 45, 'country': 'Spain', 'region': 'Barcelona', 'coordinates': [2.1708544432392176, 41.39229329255477], 'timestamp': '2021-10-03 11:48:05.623120'}\n",
      "{'key': 46, 'country': 'Spain', 'region': 'Barcelona', 'coordinates': [2.1300253535604314, 41.39942843136837], 'timestamp': '2021-10-03 11:48:05.635122'}\n",
      "{'key': 47, 'country': 'Spain', 'region': 'Barcelona', 'coordinates': [2.1358815709686576, 41.39842391214745], 'timestamp': '2021-10-03 11:48:05.647131'}\n",
      "{'key': 48, 'country': 'Spain', 'region': 'Barcelona', 'coordinates': [2.178769031268534, 41.394208450454656], 'timestamp': '2021-10-03 11:48:05.657129'}\n",
      "{'key': 49, 'country': 'Spain', 'region': 'Barcelona', 'coordinates': [2.1646820256317643, 41.39840449193688], 'timestamp': '2021-10-03 11:48:05.670029'}\n",
      "{'key': 50, 'country': 'Spain', 'region': 'Barcelona', 'coordinates': [2.176110578160176, 41.407915734034916], 'timestamp': '2021-10-03 11:48:05.680116'}\n",
      "{'key': 1, 'country': 'Spain', 'region': 'Barcelona', 'coordinates': [2.135142352856146, 41.389775734203965], 'timestamp': '2021-10-03 11:48:10.693553'}\n",
      "{'key': 2, 'country': 'Spain', 'region': 'Barcelona', 'coordinates': [2.1337113631184836, 41.39780868131245], 'timestamp': '2021-10-03 11:48:10.706894'}\n",
      "{'key': 3, 'country': 'Spain', 'region': 'Barcelona', 'coordinates': [2.1405853064809843, 41.4059275910069], 'timestamp': '2021-10-03 11:48:10.717400'}\n",
      "{'key': 4, 'country': 'Spain', 'region': 'Barcelona', 'coordinates': [2.1553967391246793, 41.38913083537654], 'timestamp': '2021-10-03 11:48:10.728349'}\n",
      "{'key': 5, 'country': 'Spain', 'region': 'Barcelona', 'coordinates': [2.18059323839012, 41.3941704207124], 'timestamp': '2021-10-03 11:48:10.738684'}\n",
      "{'key': 6, 'country': 'Spain', 'region': 'Barcelona', 'coordinates': [2.176699137043301, 41.39635250595648], 'timestamp': '2021-10-03 11:48:10.749245'}\n",
      "{'key': 7, 'country': 'Spain', 'region': 'Barcelona', 'coordinates': [2.1598060523929, 41.391781610170604], 'timestamp': '2021-10-03 11:48:10.761847'}\n",
      "{'key': 8, 'country': 'Spain', 'region': 'Barcelona', 'coordinates': [2.176651136478568, 41.40746624667072], 'timestamp': '2021-10-03 11:48:10.775280'}\n",
      "{'key': 9, 'country': 'Spain', 'region': 'Barcelona', 'coordinates': [2.1400393459529305, 41.40143261880498], 'timestamp': '2021-10-03 11:48:10.787205'}\n",
      "{'key': 10, 'country': 'Spain', 'region': 'Barcelona', 'coordinates': [2.179819806875338, 41.39851496595475], 'timestamp': '2021-10-03 11:48:10.798561'}\n",
      "{'key': 11, 'country': 'Spain', 'region': 'Barcelona', 'coordinates': [2.187411083732785, 41.390469274032725], 'timestamp': '2021-10-03 11:48:10.808469'}\n",
      "{'key': 12, 'country': 'Spain', 'region': 'Barcelona', 'coordinates': [2.162246337864249, 41.40408121705567], 'timestamp': '2021-10-03 11:48:10.816467'}\n",
      "{'key': 13, 'country': 'Spain', 'region': 'Barcelona', 'coordinates': [2.178477553336076, 41.40592270510713], 'timestamp': '2021-10-03 11:48:10.825466'}\n",
      "{'key': 14, 'country': 'Spain', 'region': 'Barcelona', 'coordinates': [2.1651898665745635, 41.38964065600237], 'timestamp': '2021-10-03 11:48:10.835465'}\n",
      "{'key': 15, 'country': 'Spain', 'region': 'Barcelona', 'coordinates': [2.172784585679247, 41.39633833867205], 'timestamp': '2021-10-03 11:48:10.843465'}\n",
      "{'key': 16, 'country': 'Spain', 'region': 'Barcelona', 'coordinates': [2.149189132235283, 41.398529707227695], 'timestamp': '2021-10-03 11:48:10.850464'}\n",
      "{'key': 17, 'country': 'Spain', 'region': 'Barcelona', 'coordinates': [2.1434067109824344, 41.40516466537671], 'timestamp': '2021-10-03 11:48:10.857471'}\n",
      "{'key': 18, 'country': 'Spain', 'region': 'Barcelona', 'coordinates': [2.1722029240541585, 41.39184146457555], 'timestamp': '2021-10-03 11:48:10.865463'}\n",
      "{'key': 19, 'country': 'Spain', 'region': 'Barcelona', 'coordinates': [2.1391129658090913, 41.40713400667867], 'timestamp': '2021-10-03 11:48:10.873465'}\n",
      "{'key': 20, 'country': 'Spain', 'region': 'Barcelona', 'coordinates': [2.1314992102886245, 41.406435839673236], 'timestamp': '2021-10-03 11:48:10.880464'}\n",
      "{'key': 21, 'country': 'Spain', 'region': 'Barcelona', 'coordinates': [2.162749216287404, 41.40344993939349], 'timestamp': '2021-10-03 11:48:10.888464'}\n",
      "{'key': 22, 'country': 'Spain', 'region': 'Barcelona', 'coordinates': [2.1472006638524745, 41.39032910838714], 'timestamp': '2021-10-03 11:48:10.895467'}\n",
      "{'key': 23, 'country': 'Spain', 'region': 'Barcelona', 'coordinates': [2.16569806426199, 41.39520650783176], 'timestamp': '2021-10-03 11:48:10.905466'}\n",
      "{'key': 24, 'country': 'Spain', 'region': 'Barcelona', 'coordinates': [2.194951168611453, 41.39517828692306], 'timestamp': '2021-10-03 11:48:10.912465'}\n",
      "{'key': 25, 'country': 'Spain', 'region': 'Barcelona', 'coordinates': [2.1578876234684667, 41.405157970271176], 'timestamp': '2021-10-03 11:48:10.921471'}\n",
      "{'key': 26, 'country': 'Spain', 'region': 'Barcelona', 'coordinates': [2.1786079799011175, 41.391439792104656], 'timestamp': '2021-10-03 11:48:10.930464'}\n",
      "{'key': 27, 'country': 'Spain', 'region': 'Barcelona', 'coordinates': [2.149977052962458, 41.39749471715125], 'timestamp': '2021-10-03 11:48:10.939464'}\n",
      "{'key': 28, 'country': 'Spain', 'region': 'Barcelona', 'coordinates': [2.156550391221798, 41.40709995347137], 'timestamp': '2021-10-03 11:48:10.947464'}\n",
      "{'key': 29, 'country': 'Spain', 'region': 'Barcelona', 'coordinates': [2.174622974946675, 41.39406772503166], 'timestamp': '2021-10-03 11:48:10.954465'}\n",
      "{'key': 30, 'country': 'Spain', 'region': 'Barcelona', 'coordinates': [2.168915442448003, 41.40626105244388], 'timestamp': '2021-10-03 11:48:10.961464'}\n",
      "{'key': 31, 'country': 'Spain', 'region': 'Barcelona', 'coordinates': [2.1846282423142225, 41.40067578071119], 'timestamp': '2021-10-03 11:48:10.968463'}\n",
      "{'key': 32, 'country': 'Spain', 'region': 'Barcelona', 'coordinates': [2.161426572142797, 41.398406771995354], 'timestamp': '2021-10-03 11:48:10.976466'}\n",
      "{'key': 33, 'country': 'Spain', 'region': 'Barcelona', 'coordinates': [2.144727265628287, 41.39950425109284], 'timestamp': '2021-10-03 11:48:10.985464'}\n",
      "{'key': 34, 'country': 'Spain', 'region': 'Barcelona', 'coordinates': [2.1922151783377513, 41.39246358890389], 'timestamp': '2021-10-03 11:48:10.993465'}\n",
      "{'key': 35, 'country': 'Spain', 'region': 'Barcelona', 'coordinates': [2.1671625339467946, 41.407355036108136], 'timestamp': '2021-10-03 11:48:11.000462'}\n",
      "{'key': 36, 'country': 'Spain', 'region': 'Barcelona', 'coordinates': [2.1720554313420894, 41.40263632140282], 'timestamp': '2021-10-03 11:48:11.008463'}\n",
      "{'key': 37, 'country': 'Spain', 'region': 'Barcelona', 'coordinates': [2.136050431747166, 41.40129310749279], 'timestamp': '2021-10-03 11:48:11.016464'}\n",
      "{'key': 38, 'country': 'Spain', 'region': 'Barcelona', 'coordinates': [2.143675795839378, 41.400135519179756], 'timestamp': '2021-10-03 11:48:11.024462'}\n",
      "{'key': 39, 'country': 'Spain', 'region': 'Barcelona', 'coordinates': [2.167807080255066, 41.39506496700765], 'timestamp': '2021-10-03 11:48:11.032465'}\n",
      "{'key': 40, 'country': 'Spain', 'region': 'Barcelona', 'coordinates': [2.1476572573042763, 41.40407408414168], 'timestamp': '2021-10-03 11:48:11.040465'}\n",
      "{'key': 41, 'country': 'Spain', 'region': 'Barcelona', 'coordinates': [2.1363355941035387, 41.39434820671828], 'timestamp': '2021-10-03 11:48:11.051464'}\n",
      "{'key': 42, 'country': 'Spain', 'region': 'Barcelona', 'coordinates': [2.153574384671023, 41.39948897814177], 'timestamp': '2021-10-03 11:48:11.060467'}\n",
      "{'key': 43, 'country': 'Spain', 'region': 'Barcelona', 'coordinates': [2.180609360305455, 41.39471773719469], 'timestamp': '2021-10-03 11:48:11.071469'}\n",
      "{'key': 44, 'country': 'Spain', 'region': 'Barcelona', 'coordinates': [2.1789527754247606, 41.398704754312625], 'timestamp': '2021-10-03 11:48:11.081467'}\n",
      "{'key': 45, 'country': 'Spain', 'region': 'Barcelona', 'coordinates': [2.1905093377220326, 41.40191426440288], 'timestamp': '2021-10-03 11:48:11.092466'}\n",
      "{'key': 46, 'country': 'Spain', 'region': 'Barcelona', 'coordinates': [2.14773351362811, 41.40433702829209], 'timestamp': '2021-10-03 11:48:11.101466'}\n",
      "{'key': 47, 'country': 'Spain', 'region': 'Barcelona', 'coordinates': [2.154483149658271, 41.406941547543475], 'timestamp': '2021-10-03 11:48:11.111467'}\n",
      "{'key': 48, 'country': 'Spain', 'region': 'Barcelona', 'coordinates': [2.1678923163316144, 41.402560357687676], 'timestamp': '2021-10-03 11:48:11.119463'}\n",
      "{'key': 49, 'country': 'Spain', 'region': 'Barcelona', 'coordinates': [2.1924282670011004, 41.391111951949846], 'timestamp': '2021-10-03 11:48:11.129470'}\n",
      "{'key': 50, 'country': 'Spain', 'region': 'Barcelona', 'coordinates': [2.177371329474756, 41.389627023919616], 'timestamp': '2021-10-03 11:48:11.137467'}\n"
     ]
    },
    {
     "output_type": "error",
     "ename": "KeyboardInterrupt",
     "evalue": "",
     "traceback": [
      "\u001b[1;31m---------------------------------------------------------------------------\u001b[0m",
      "\u001b[1;31mKeyboardInterrupt\u001b[0m                         Traceback (most recent call last)",
      "\u001b[1;32m<ipython-input-8-656e3532a0ea>\u001b[0m in \u001b[0;36m<module>\u001b[1;34m\u001b[0m\n\u001b[0;32m      2\u001b[0m \u001b[1;32mwhile\u001b[0m \u001b[1;32mTrue\u001b[0m\u001b[1;33m:\u001b[0m\u001b[1;33m\u001b[0m\u001b[1;33m\u001b[0m\u001b[0m\n\u001b[0;32m      3\u001b[0m     \u001b[0msendRandomPostion\u001b[0m\u001b[1;33m(\u001b[0m\u001b[0mdf\u001b[0m\u001b[1;33m,\u001b[0m \u001b[0mnumberRaider\u001b[0m\u001b[1;33m,\u001b[0m \u001b[0murl\u001b[0m\u001b[1;33m,\u001b[0m \u001b[0mheaders\u001b[0m\u001b[1;33m)\u001b[0m\u001b[1;33m\u001b[0m\u001b[1;33m\u001b[0m\u001b[0m\n\u001b[1;32m----> 4\u001b[1;33m     \u001b[0mtime\u001b[0m\u001b[1;33m.\u001b[0m\u001b[0msleep\u001b[0m\u001b[1;33m(\u001b[0m\u001b[0minterval\u001b[0m\u001b[1;33m)\u001b[0m\u001b[1;33m\u001b[0m\u001b[1;33m\u001b[0m\u001b[0m\n\u001b[0m",
      "\u001b[1;31mKeyboardInterrupt\u001b[0m: "
     ]
    }
   ],
   "metadata": {}
  }
 ],
 "metadata": {
  "kernelspec": {
   "name": "python3",
   "display_name": "Python 3.7.4 64-bit ('base': conda)"
  },
  "language_info": {
   "codemirror_mode": {
    "name": "ipython",
    "version": 3
   },
   "file_extension": ".py",
   "mimetype": "text/x-python",
   "name": "python",
   "nbconvert_exporter": "python",
   "pygments_lexer": "ipython3",
   "version": "3.7.4"
  },
  "interpreter": {
   "hash": "88c71a1b0f03e99e97798ce65b31242f897ec6a845ed873604cdf6feff820a57"
  }
 },
 "nbformat": 4,
 "nbformat_minor": 2
}